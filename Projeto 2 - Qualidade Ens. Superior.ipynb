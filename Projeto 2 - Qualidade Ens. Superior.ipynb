{
 "cells": [
  {
   "cell_type": "markdown",
   "id": "6a92baa1",
   "metadata": {},
   "source": [
    "**Qualidade do ensino superior brasileiro**\n",
    "\n",
    "**Objetivo**\n",
    "\n",
    "Realizar uma análise da qualidade da educação superior no Brasil, durante os governos de Lula, Dilma, Temer e Bolsonaro, dessa forma realizando uma comparação da qualidade geral dos mesmos.\n",
    "\n",
    "Para realizar o projeto  foi necessário a criação de uma média que será utilizada com índice de qualidade geral, a mesma foi feita usando os principais indices: ICC, CPC, IDD e Conceito Enade."
   ]
  },
  {
   "cell_type": "code",
   "execution_count": 1,
   "id": "331dbb0e",
   "metadata": {
    "scrolled": true
   },
   "outputs": [],
   "source": [
    "# Carregando bibliotecas\n",
    "\n",
    "import pandas as pd\n",
    "import numpy as np\n",
    "from jupyter_dash import JupyterDash\n",
    "import plotly.express as px\n",
    "from dash import dcc\n",
    "from dash import html\n",
    "from dash import Input, Output"
   ]
  },
  {
   "cell_type": "code",
   "execution_count": 2,
   "id": "3fdd330a",
   "metadata": {},
   "outputs": [],
   "source": [
    "# pegando dados de 2019\n",
    "igc_2019 = pd.read_excel(\"/home/arthur/Downloads/IGC_2019.xlsx\")\n",
    "idd_2019 = pd.read_excel(\"/home/arthur/Downloads/IDD_2019.xlsx\")\n",
    "cpc_2019 = pd.read_excel(\"/home/arthur/Downloads/resultados_cpc_2019.xlsx\")\n",
    "enade_2019 = pd.read_excel(\"/home/arthur/Downloads/Conceito_Enade_2019.xlsx\")"
   ]
  },
  {
   "cell_type": "code",
   "execution_count": 3,
   "id": "526ad711",
   "metadata": {
    "scrolled": true
   },
   "outputs": [
    {
     "name": "stdout",
     "output_type": "stream",
     "text": [
      "Média IGC 2019: 2.58\n",
      "Média IDD 2019: 2.51\n",
      "Média CPC 2019: 2.80\n",
      "Média enade 2019: 2.38\n",
      "=========================\n",
      "Média geral de 2019: 2.57\n"
     ]
    }
   ],
   "source": [
    "# Calculando médias - 2019\n",
    "media_igc_2019 = igc_2019[' IGC (Contínuo)'].mean()\n",
    "media_idd_2019 = idd_2019[\" IDD (Contínuo)\"].mean()\n",
    "\n",
    "filtro = cpc_2019[ cpc_2019[' CPC (Contínuo)'] == 'SC' ].index\n",
    "cpc_2019.drop(filtro, inplace=True)\n",
    "media_cpc_2019 = cpc_2019[\" CPC (Contínuo)\"].mean()\n",
    "\n",
    "media_enade_2019 = enade_2019[\"Conceito Enade (Contínuo)\"].mean()\n",
    "\n",
    "# Imprimindo médias\n",
    "\n",
    "print(f\"Média IGC 2019: {media_igc_2019:.2f}\")\n",
    "print(f\"Média IDD 2019: {media_idd_2019:.2f}\")\n",
    "print(f\"Média CPC 2019: {media_cpc_2019:.2f}\")\n",
    "print(f\"Média enade 2019: {media_enade_2019:.2f}\")\n",
    "\n",
    "# Média geral 2019\n",
    "media_geral_2019 = (media_igc_2019 + media_idd_2019 + media_cpc_2019 + media_enade_2019)/4\n",
    "print(\"=\"*25)\n",
    "print(f\"Média geral de 2019: {media_geral_2019:.2f}\")"
   ]
  },
  {
   "cell_type": "code",
   "execution_count": 4,
   "id": "f3e3db0b",
   "metadata": {},
   "outputs": [],
   "source": [
    "# pegando dados de 2018\n",
    "igc_2018 = pd.read_excel(\"/home/arthur/dados_projeto/governo_temer/2018/portal_IGC_edicao2018.xlsx\")\n",
    "idd_2018 = pd.read_excel(\"/home/arthur/dados_projeto/governo_temer/2018/resultados_IDD_2018.xlsx\")\n",
    "cpc_2018 = pd.read_excel(\"/home/arthur/dados_projeto/governo_temer/2018/portal_CPC_edicao2018.xlsx\")\n",
    "enade_2018 = pd.read_excel(\"/home/arthur/dados_projeto/governo_temer/2018/resultados_conceito_enade_2018.xlsx\")"
   ]
  },
  {
   "cell_type": "code",
   "execution_count": 5,
   "id": "a576ce9a",
   "metadata": {},
   "outputs": [
    {
     "name": "stdout",
     "output_type": "stream",
     "text": [
      "Média IGC 2018: 2.57\n",
      "Média IDD 2018: 2.51\n",
      "Média CPC 2018: 2.70\n",
      "Média enade 2018: 2.43\n",
      "=========================\n",
      "Média geral de 2018: 2.55\n"
     ]
    }
   ],
   "source": [
    "# Calculando médias - 2018\n",
    "media_igc_2018 = igc_2018[\"IGC (Contínuo)\"].mean()\n",
    "media_idd_2018 = idd_2018[\"IDD (Contínuo)\"].mean()\n",
    "\n",
    "filtro = cpc_2018[ cpc_2018['CPC (Contínuo)'] == '-' ].index\n",
    "cpc_2018.drop(filtro, inplace=True)\n",
    "media_cpc_2018 = cpc_2018[\"CPC (Contínuo)\"].mean()\n",
    "\n",
    "media_enade_2018 = enade_2018[\"Conceito Enade (Contínuo)\"].mean()\n",
    "\n",
    "# Calculando média geral\n",
    "\n",
    "media_geral_2018 = (media_idd_2018 + media_igc_2018 + media_cpc_2018 + media_enade_2018)/4\n",
    "\n",
    "# Imprimindo médias\n",
    "\n",
    "print(f\"Média IGC 2018: {media_igc_2018:.2f}\")\n",
    "print(f\"Média IDD 2018: {media_idd_2018:.2f}\")\n",
    "print(f\"Média CPC 2018: {media_cpc_2018:.2f}\")\n",
    "print(f\"Média enade 2018: {media_enade_2018:.2f}\")\n",
    "print(\"=\"*25)\n",
    "print(f\"Média geral de 2018: {media_geral_2018:.2f}\")"
   ]
  },
  {
   "cell_type": "code",
   "execution_count": 6,
   "id": "744b8365",
   "metadata": {},
   "outputs": [],
   "source": [
    "# pegando dados de 2017\n",
    "igc_2017 = pd.read_excel(\"/home/arthur/dados_projeto/governo_temer/2017/resultado_igc_2017.xlsx\")\n",
    "idd_2017 = pd.read_excel(\"/home/arthur/dados_projeto/governo_temer/2017/resultados_IDD_2017.xlsx\")\n",
    "cpc_2017 = pd.read_excel(\"/home/arthur/dados_projeto/governo_temer/2017/resultado_cpc_2017.xlsx\")\n",
    "enade_2017 = pd.read_excel(\"/home/arthur/dados_projeto/governo_temer/2017/resultados_conceito_enade_2017.xlsx\")"
   ]
  },
  {
   "cell_type": "code",
   "execution_count": 7,
   "id": "5ad87a64",
   "metadata": {},
   "outputs": [
    {
     "name": "stdout",
     "output_type": "stream",
     "text": [
      "Média IGC 2017: 2.53\n",
      "Média IDD 2017: 2.47\n",
      "Média CPC 2017: 2.76\n",
      "Média enade 2017: 2.40\n",
      "=========================\n",
      "Média geral de 2017: 2.54\n"
     ]
    }
   ],
   "source": [
    "# Calculando médias - 2017\n",
    "media_igc_2017 = igc_2017[\"IGC (Contínuo)\"].mean()\n",
    "media_idd_2017 = idd_2017[\"IDD (Contínuo)\"].mean()\n",
    "media_cpc_2017 = cpc_2017[\"CPC Contínuo\"].mean()\n",
    "media_enade_2017 = enade_2017[\"Conceito Enade (Contínuo)\"].mean()\n",
    "\n",
    "\n",
    "# Calculando média geral\n",
    "\n",
    "media_geral_2017 = (media_idd_2017 + media_igc_2017 + media_cpc_2017 + media_enade_2017)/4\n",
    "\n",
    "# Imprimindo médias\n",
    "\n",
    "print(f\"Média IGC 2017: {media_igc_2017:.2f}\")\n",
    "print(f\"Média IDD 2017: {media_idd_2017:.2f}\")\n",
    "print(f\"Média CPC 2017: {media_cpc_2017:.2f}\")\n",
    "print(f\"Média enade 2017: {media_enade_2017:.2f}\")\n",
    "print(\"=\"*25)\n",
    "print(f\"Média geral de 2017: {media_geral_2017:.2f}\")"
   ]
  },
  {
   "cell_type": "code",
   "execution_count": 8,
   "id": "c0d6819d",
   "metadata": {},
   "outputs": [],
   "source": [
    "#pegando dados de 2016\n",
    "igc_2016 = pd.read_excel(\"/home/arthur/dados_projeto/governo_dilma/2016/resultado_igc_2016_11042018.xlsx\")\n",
    "idd_2016 = pd.read_excel(\"/home/arthur/dados_projeto/governo_dilma/2016/resultado_IDD2016_portal_06_09_2017.xlsx\")\n",
    "cpc_2016 = pd.read_excel(\"/home/arthur/dados_projeto/governo_dilma/2016/Resultado_CPC_2016_portal_23_02_2018.xls\")\n",
    "enade_2016 = pd.read_excel(\"/home/arthur/dados_projeto/governo_dilma/2016/resultado_enade2016_portal_06_09_2017.xlsx\")"
   ]
  },
  {
   "cell_type": "code",
   "execution_count": 9,
   "id": "18744ef3",
   "metadata": {
    "scrolled": false
   },
   "outputs": [
    {
     "name": "stdout",
     "output_type": "stream",
     "text": [
      "Média IGC 2016: 2.92\n",
      "Média IDD 2016: 2.53\n",
      "Média CPC 2016: 2.80\n",
      "Média enade 2016: 2.50\n",
      "=========================\n",
      "Média geral de 2016: 2.69\n"
     ]
    }
   ],
   "source": [
    "# Calculando médias - 2016\n",
    "\n",
    "media_igc_2016 = igc_2016[\"igc\"].mean()\n",
    "media_idd_2016 = idd_2016[\"Nota Padronizada - IDD\"].mean()\n",
    "\n",
    "filtro = cpc_2016[ cpc_2016['CPC Contínuo'] == '-' ].index\n",
    "cpc_2016.drop(filtro, inplace=True)\n",
    "media_cpc_2016 = cpc_2016[\"CPC Contínuo\"].mean()\n",
    "\n",
    "media_cpc_2016 = cpc_2016[\"CPC Contínuo\"].mean()\n",
    "\n",
    "media_enade_2016 = enade_2016[\"Conceito Enade (Contínuo)\"].mean()\n",
    "\n",
    "\n",
    "# Calculando média geral\n",
    "\n",
    "media_geral_2016 = (media_idd_2016 + media_igc_2016 + media_cpc_2016 + media_enade_2016)/4\n",
    "\n",
    "# Imprimindo médias\n",
    "\n",
    "print(f\"Média IGC 2016: {media_igc_2016:.2f}\")\n",
    "print(f\"Média IDD 2016: {media_idd_2016:.2f}\")\n",
    "print(f\"Média CPC 2016: {media_cpc_2016:.2f}\")\n",
    "print(f\"Média enade 2016: {media_enade_2016:.2f}\")\n",
    "print(\"=\"*25)\n",
    "print(f\"Média geral de 2016: {media_geral_2016:.2f}\")"
   ]
  },
  {
   "cell_type": "code",
   "execution_count": 10,
   "id": "c909103e",
   "metadata": {},
   "outputs": [],
   "source": [
    "# pegando dados de 2015\n",
    "igc_2015 = pd.read_excel(\"/home/arthur/dados_projeto/governo_dilma/2015/igc_2015_portal_04_12_2017.xlsx\")\n",
    "cpc_2015 = pd.read_excel(\"/home/arthur/dados_projeto/governo_dilma/2015/cpc_2015_portal_atualizado_03_10_2017.xls\")\n",
    "enade_2015 = pd.read_excel(\"/home/arthur/dados_projeto/governo_dilma/2015/conceito_enade_2015_portal_atualizado_03_10_2017.xls\")"
   ]
  },
  {
   "cell_type": "code",
   "execution_count": 11,
   "id": "f3738886",
   "metadata": {
    "scrolled": true
   },
   "outputs": [
    {
     "name": "stdout",
     "output_type": "stream",
     "text": [
      "Média IGC 2015: 2.89\n",
      "Média CPC 2015: 2.63\n",
      "Média enade 2015: 2.40\n",
      "=========================\n",
      "Média geral de 2015: 2.64\n"
     ]
    }
   ],
   "source": [
    "# Calculando médias - 2015\n",
    "media_igc_2015 = igc_2015[\"IGC (Contínuo)\"].mean()\n",
    "\n",
    "filtro = cpc_2015[cpc_2015[\"CPC Contínuo\"] == \"-\" ].index\n",
    "cpc_2015.drop(filtro, inplace=True)\n",
    "media_cpc_2015 = cpc_2015[\"CPC Contínuo\"].mean()\n",
    "\n",
    "\n",
    "filtro = enade_2015[enade_2015[\"Conceito Enade (Contínuo)\"] == \"-\" ].index\n",
    "enade_2015.drop(filtro, inplace=True)\n",
    "media_enade_2015 = enade_2015[\"Conceito Enade (Contínuo)\"].mean()\n",
    "\n",
    "\n",
    "# Calculando média geral\n",
    "\n",
    "media_geral_2015 = (media_igc_2015 + media_cpc_2015 + media_enade_2015)/3\n",
    "\n",
    "# Imprimindo médias\n",
    "\n",
    "print(f\"Média IGC 2015: {media_igc_2015:.2f}\")\n",
    "print(f\"Média CPC 2015: {media_cpc_2015:.2f}\")\n",
    "print(f\"Média enade 2015: {media_enade_2015:.2f}\")\n",
    "print(\"=\"*25)\n",
    "print(f\"Média geral de 2015: {media_geral_2015:.2f}\")"
   ]
  },
  {
   "cell_type": "code",
   "execution_count": 12,
   "id": "15177e84",
   "metadata": {},
   "outputs": [],
   "source": [
    "# pegando dados de 2014\n",
    "cpc_2014 = pd.read_excel(\"/home/arthur/dados_projeto/governo_dilma/2014/cpc2014_atualizado_em_04122017.xlsx\")\n",
    "enade_2014 = pd.read_excel(\"/home/arthur/dados_projeto/governo_dilma/2014/conceito_enade_2014_atualizado_em_04122017.xlsx\")"
   ]
  },
  {
   "cell_type": "code",
   "execution_count": 13,
   "id": "1095c0a9",
   "metadata": {},
   "outputs": [
    {
     "name": "stdout",
     "output_type": "stream",
     "text": [
      "Média IDD 2014: 2.41\n",
      "Média CPC 2014: 2.66\n",
      "Média enade 2014: 2.32\n",
      "=========================\n",
      "Média geral de 2014: 2.48\n"
     ]
    }
   ],
   "source": [
    "# Calculando médias - 2014\n",
    "\n",
    "filtro1 = cpc_2014[cpc_2014[\"CPC Contínuo\"] == \"-\" ].index\n",
    "cpc_2014.drop(filtro1, inplace=True)\n",
    "media_cpc_2014 = cpc_2014[\"CPC Contínuo\"].mean()\n",
    "\n",
    "filtro2 = enade_2014[enade_2014[\"Conceito Enade (Contínuo)\"] == \"-\" ].index\n",
    "enade_2014.drop(filtro2, inplace=True)\n",
    "media_enade_2014 = enade_2014[\"Conceito Enade (Contínuo)\"].mean()\n",
    "\n",
    "media_idd_2014 = cpc_2014[\"Nota Padronizada - IDD\"].mean()\n",
    "\n",
    "# Calculando média geral\n",
    "\n",
    "media_geral_2014 = (media_cpc_2015 + media_enade_2015 + media_idd_2014)/3\n",
    "\n",
    "# Imprimindo médias\n",
    "\n",
    "print(f\"Média IDD 2014: {media_idd_2014:.2f}\")\n",
    "print(f\"Média CPC 2014: {media_cpc_2014:.2f}\")\n",
    "print(f\"Média enade 2014: {media_enade_2014:.2f}\")\n",
    "print(\"=\"*25)\n",
    "print(f\"Média geral de 2014: {media_geral_2014:.2f}\")"
   ]
  },
  {
   "cell_type": "code",
   "execution_count": 14,
   "id": "b3fba1c7",
   "metadata": {},
   "outputs": [],
   "source": [
    "# pegando dados de 2013\n",
    "igc_2013 = pd.read_excel(\"/home/arthur/dados_projeto/governo_dilma/2013/igc_2013_09022015.xlsx\")\n",
    "cpc_2013 = pd.read_excel(\"/home/arthur/dados_projeto/governo_dilma/2013/cpc2013_atualizado_em_27112017.xls\")\n",
    "enade_2013 = pd.read_excel(\"/home/arthur/dados_projeto/governo_dilma/2013/conceito_enade_2013.xlsx\")"
   ]
  },
  {
   "cell_type": "code",
   "execution_count": 15,
   "id": "12ca61ff",
   "metadata": {
    "scrolled": true
   },
   "outputs": [
    {
     "name": "stdout",
     "output_type": "stream",
     "text": [
      "Média IDD 2013: 2.49\n",
      "Média CPC 2013: 2.74\n",
      "Média enade 2013: 2.46\n",
      "Média IGC 2013: 2.89\n",
      "=========================\n",
      "Média geral de 2013: 2.65\n"
     ]
    }
   ],
   "source": [
    "# Calculando médias - 2013\n",
    "\n",
    "media_igc_2013 = igc_2013[\"IGC (Contínuo)\"].mean()\n",
    "media_idd_2013 = cpc_2013[\"Nota Padronizada do IDD\"].mean()\n",
    "media_cpc_2013 = cpc_2013[\"CPC Contínuo\"].mean()\n",
    "\n",
    "filtro = enade_2013[enade_2013[\"Nota Contínua do Enade\"] == \".\" ].index\n",
    "enade_2013.drop(filtro, inplace=True)\n",
    "media_enade_2013 = enade_2013[\"Nota Contínua do Enade\"].mean()\n",
    "\n",
    "# Calculando média geral\n",
    "\n",
    "media_geral_2013 = (media_cpc_2013 + media_enade_2013 + media_idd_2013 + media_igc_2013)/4\n",
    "\n",
    "# Imprimindo médias\n",
    "\n",
    "print(f\"Média IDD 2013: {media_idd_2013:.2f}\")\n",
    "print(f\"Média CPC 2013: {media_cpc_2013:.2f}\")\n",
    "print(f\"Média enade 2013: {media_enade_2013:.2f}\")\n",
    "print(f\"Média IGC 2013: {media_igc_2013:.2f}\")\n",
    "print(\"=\"*25)\n",
    "print(f\"Média geral de 2013: {media_geral_2013:.2f}\")"
   ]
  },
  {
   "cell_type": "code",
   "execution_count": 16,
   "id": "11620c05",
   "metadata": {},
   "outputs": [],
   "source": [
    "# pegando dados de 2012\n",
    "igc_2012 = pd.read_excel(\"/home/arthur/dados_projeto/governo_dilma/2012/tabela_igc_2012_30012014.xls\")\n",
    "cpc_2012 = pd.read_excel(\"/home/arthur/dados_projeto/governo_dilma/2012/cpc_2012_site_2014_03_14.xls\")\n",
    "enade_2012 = pd.read_excel(\"/home/arthur/dados_projeto/governo_dilma/2012/conceito_enade_2012.xlsx\")\n",
    "enade_2012 = enade_2012.drop(0)"
   ]
  },
  {
   "cell_type": "code",
   "execution_count": 17,
   "id": "3deb7c94",
   "metadata": {},
   "outputs": [
    {
     "name": "stdout",
     "output_type": "stream",
     "text": [
      "Média IDD 2012: 2.52\n",
      "Média CPC 2012: 2.61\n",
      "Média enade 2012: 2.42\n",
      "Média IGC 2012: 2.87\n",
      "=========================\n",
      "Média geral de 2012: 2.61\n"
     ]
    }
   ],
   "source": [
    "# Calculando médias - 2012\n",
    "\n",
    "filtro = igc_2012[igc_2012[\"IGC (Contínuo)\"] == \".\" ].index\n",
    "igc_2012.drop(filtro, inplace=True)\n",
    "media_igc_2012 = igc_2012[\"IGC (Contínuo)\"].mean()\n",
    "\n",
    "filtro = cpc_2012[cpc_2012[\"Nota padronizada do IDD\"] == \".\" ].index\n",
    "cpc_2012.drop(filtro, inplace=True)\n",
    "media_idd_2012 = cpc_2012[\"Nota padronizada do IDD\"].mean()\n",
    "\n",
    "\n",
    "filtro = cpc_2012[cpc_2012[\"CPC (contínuo)\"] == \".\" ].index\n",
    "cpc_2012.drop(filtro, inplace=True)\n",
    "media_cpc_2012 = cpc_2012[\"CPC (contínuo)\"].mean()\n",
    "\n",
    "filtro = enade_2012[enade_2012[\"Unnamed: 17\"] == \".\" ].index\n",
    "enade_2012.drop(filtro, inplace=True)\n",
    "media_enade_2012 = enade_2012[\"Unnamed: 17\"].mean()\n",
    "\n",
    "# Calculando média geral\n",
    "\n",
    "media_geral_2012 = (media_cpc_2012 + media_enade_2012 + media_idd_2012 + media_igc_2012)/4\n",
    "\n",
    "# Imprimindo médias\n",
    "\n",
    "print(f\"Média IDD 2012: {media_idd_2012:.2f}\")\n",
    "print(f\"Média CPC 2012: {media_cpc_2012:.2f}\")\n",
    "print(f\"Média enade 2012: {media_enade_2012:.2f}\")\n",
    "print(f\"Média IGC 2012: {media_igc_2012:.2f}\")\n",
    "print(\"=\"*25)\n",
    "print(f\"Média geral de 2012: {media_geral_2012:.2f}\")"
   ]
  },
  {
   "cell_type": "code",
   "execution_count": 18,
   "id": "be92e9ad",
   "metadata": {},
   "outputs": [],
   "source": [
    "# pegando dados de 2011\n",
    "igc_2011 = pd.read_excel(\"/home/arthur/dados_projeto/governo_dilma/2011/tabela_igc_2011_15_01_2013.xls\")\n",
    "enade_2011 = pd.read_excel(\"/home/arthur/dados_projeto/governo_dilma/2011/tabela_enade_cpc_2011_retificado_08_02_13.xls\")"
   ]
  },
  {
   "cell_type": "code",
   "execution_count": 19,
   "id": "d3f6335e",
   "metadata": {},
   "outputs": [
    {
     "name": "stdout",
     "output_type": "stream",
     "text": [
      "Média IDD 2011: 2.50\n",
      "Média CPC 2011: 2.66\n",
      "Média enade 2011: 2.43\n",
      "Média IGC 2011: 2.81\n",
      "=========================\n",
      "Média geral de 2011: 2.60\n"
     ]
    }
   ],
   "source": [
    "# Calculando médias - 2011\n",
    "\n",
    "media_igc_2011 = igc_2011[\"IGC_contínuo\"].mean()\n",
    "media_enade_2011 = enade_2011[\"Nota Enade Concluintes\"].mean()\n",
    "media_cpc_2011 = enade_2011[\"CPC Contínuo\"].mean()\n",
    "media_idd_2011 = enade_2011[\"Nota IDD\"].mean()\n",
    "\n",
    "# Calculando média geral\n",
    "\n",
    "media_geral_2011 = (media_cpc_2011 + media_enade_2011 + media_idd_2011 + media_igc_2011)/4\n",
    "\n",
    "# Imprimindo médias\n",
    "\n",
    "print(f\"Média IDD 2011: {media_idd_2011:.2f}\")\n",
    "print(f\"Média CPC 2011: {media_cpc_2011:.2f}\")\n",
    "print(f\"Média enade 2011: {media_enade_2011:.2f}\")\n",
    "print(f\"Média IGC 2011: {media_igc_2011:.2f}\")\n",
    "print(\"=\"*25)\n",
    "print(f\"Média geral de 2011: {media_geral_2011:.2f}\")"
   ]
  },
  {
   "cell_type": "code",
   "execution_count": 20,
   "id": "995587a5",
   "metadata": {},
   "outputs": [],
   "source": [
    "# pegando dados de 2010\n",
    "igc_2010 = pd.read_excel(\"/home/arthur/dados_projeto/governo_lula/2010/tabela_igc_2010_16_10_2012.xls\")\n",
    "enade_2010 = pd.read_excel(\"/home/arthur/dados_projeto/governo_lula/2010/tabela_enade_cpc_2010.xls\")"
   ]
  },
  {
   "cell_type": "code",
   "execution_count": 21,
   "id": "52475814",
   "metadata": {},
   "outputs": [
    {
     "name": "stdout",
     "output_type": "stream",
     "text": [
      "Média IDD 2010: 2.54\n",
      "Média CPC 2010: 2.51\n",
      "Média enade 2010: 2.47\n",
      "Média IGC 2010: 2.78\n",
      "=========================\n",
      "Média geral de 2010: 2.57\n"
     ]
    }
   ],
   "source": [
    "# Calculando médias - 2010\n",
    "\n",
    "media_igc_2010 = igc_2010[\"IGC - Contínuo\"].mean()\n",
    "media_cpc_2010 = enade_2010[\"CPC contínuo\"].mean()\n",
    "media_idd_2010 = enade_2010[\"Nota IDD\"].mean()\n",
    "media_enade_2010 = enade_2010[\"Nota Enade Concluintes\"].mean()\n",
    "\n",
    "# Calculando média geral\n",
    "\n",
    "media_geral_2010 = (media_cpc_2010 + media_enade_2010 + media_idd_2010 + media_igc_2010)/4\n",
    "\n",
    "# Imprimindo médias\n",
    "\n",
    "print(f\"Média IDD 2010: {media_idd_2010:.2f}\")\n",
    "print(f\"Média CPC 2010: {media_cpc_2010:.2f}\")\n",
    "print(f\"Média enade 2010: {media_enade_2010:.2f}\")\n",
    "print(f\"Média IGC 2010: {media_igc_2010:.2f}\")\n",
    "print(\"=\"*25)\n",
    "print(f\"Média geral de 2010: {media_geral_2010:.2f}\")"
   ]
  },
  {
   "cell_type": "code",
   "execution_count": 22,
   "id": "a8c46a1c",
   "metadata": {},
   "outputs": [],
   "source": [
    "#2009\n",
    "igc_2009 = pd.read_excel(\"/home/arthur/dados_projeto/governo_lula/2009/igc_2009.xls\")\n",
    "cpc_2009 = pd.read_excel(\"/home/arthur/dados_projeto/governo_lula/2009/cpc_decomposto_2009.xls\")"
   ]
  },
  {
   "cell_type": "code",
   "execution_count": 23,
   "id": "cd933090",
   "metadata": {
    "scrolled": true
   },
   "outputs": [
    {
     "name": "stdout",
     "output_type": "stream",
     "text": [
      "Média IDD 2009: 2.50\n",
      "Média CPC 2009: 2.26\n",
      "Média enade 2009: 2.37\n",
      "Média IGC 2009: 2.71\n",
      "=========================\n",
      "Média geral de 2009: 2.46\n"
     ]
    }
   ],
   "source": [
    "# Calculando médias - 2009\n",
    "\n",
    "filtro = igc_2009[igc_2009[\"Unnamed: 15\"] == \"IGC - Contínuo\" ].index\n",
    "igc_2009.drop(filtro, inplace=True)\n",
    "media_igc_2009 = (igc_2009[\"Unnamed: 15\"].mean())/100\n",
    "\n",
    "media_cpc_2009 = cpc_2009[\"CPC contínuo\"].mean()\n",
    "media_idd_2009 = cpc_2009[\"Nota IDD\"].mean()\n",
    "media_enade_2009 = cpc_2009[\"Nota Enade Concluintes = Conceito Enade contínuo\"].mean()\n",
    "\n",
    "# Calculando média geral\n",
    "\n",
    "media_geral_2009 = (media_cpc_2009 + media_enade_2009 + media_idd_2009 + media_igc_2009)/4\n",
    "\n",
    "# Imprimindo médias\n",
    "\n",
    "print(f\"Média IDD 2009: {media_idd_2009:.2f}\")\n",
    "print(f\"Média CPC 2009: {media_cpc_2009:.2f}\")\n",
    "print(f\"Média enade 2009: {media_enade_2009:.2f}\")\n",
    "print(f\"Média IGC 2009: {media_igc_2009:.2f}\")\n",
    "print(\"=\"*25)\n",
    "print(f\"Média geral de 2009: {media_geral_2009:.2f}\")"
   ]
  },
  {
   "cell_type": "code",
   "execution_count": 24,
   "id": "16e40e8f",
   "metadata": {},
   "outputs": [],
   "source": [
    "# pegando dados de 2008\n",
    "igc_2008 = pd.read_excel(\"/home/arthur/dados_projeto/governo_lula/2008/igc_2008_03_04_2018.xlsx\")\n",
    "enade_2008 = pd.read_excel(\"/home/arthur/dados_projeto/governo_lula/2008/2008_enade_cpc_decomposto_23_05_2011.xls\")"
   ]
  },
  {
   "cell_type": "code",
   "execution_count": 25,
   "id": "d50c5ff2",
   "metadata": {},
   "outputs": [
    {
     "name": "stdout",
     "output_type": "stream",
     "text": [
      "Média IDD 2008: 2.37\n",
      "Média CPC 2008: 2.38\n",
      "Média enade 2008: 2.38\n",
      "Média IGC 2008: 2.70\n",
      "=========================\n",
      "Média geral de 2008: 2.46\n"
     ]
    }
   ],
   "source": [
    "#Calculando médias - 2008\n",
    "\n",
    "filtro = igc_2008[igc_2008[\"IGC\"] == \"Contínuo\" ].index\n",
    "igc_2008.drop(filtro, inplace=True)\n",
    "media_igc_2008 = (igc_2008[\"IGC\"].mean())/100\n",
    "\n",
    "media_idd_2008 = enade_2008[\"Nota IDD\"].mean()\n",
    "media_cpc_2008 = enade_2008[\"CPC Contínuo \"].mean()\n",
    "media_enade_2008 = enade_2008[\"Nota Enade Concluintes\"].mean()\n",
    "\n",
    "# Calculando média geral\n",
    "\n",
    "media_geral_2008 = (media_cpc_2008 + media_enade_2008 + media_idd_2008 + media_igc_2008)/4\n",
    "\n",
    "# Imprimindo médias\n",
    "\n",
    "print(f\"Média IDD 2008: {media_idd_2008:.2f}\")\n",
    "print(f\"Média CPC 2008: {media_cpc_2008:.2f}\")\n",
    "print(f\"Média enade 2008: {media_enade_2008:.2f}\")\n",
    "print(f\"Média IGC 2008: {media_igc_2008:.2f}\")\n",
    "print(\"=\"*25)\n",
    "print(f\"Média geral de 2008: {media_geral_2008:.2f}\")"
   ]
  },
  {
   "cell_type": "code",
   "execution_count": 26,
   "id": "01c40337",
   "metadata": {},
   "outputs": [],
   "source": [
    "# pegando dados de 2007\n",
    "igc_2007 = pd.read_csv(\"/home/arthur/dados_projeto/governo_lula/2007/igc_2007_03_04_2018 - Universidade.csv\", encoding=\"latin-1\",sep=\";\")\n",
    "cpc_2007 = pd.read_excel(\"/home/arthur/dados_projeto/governo_lula/2007/cpc_2007_decomposto_23_05_2011.xls\")"
   ]
  },
  {
   "cell_type": "code",
   "execution_count": 27,
   "id": "e686778a",
   "metadata": {},
   "outputs": [
    {
     "name": "stdout",
     "output_type": "stream",
     "text": [
      "Média IDD 2007: 2.43\n",
      "Média CPC 2007: 2.41\n",
      "Média enade 2007: 2.41\n",
      "=========================\n",
      "Média geral de 2007: 2.42\n"
     ]
    }
   ],
   "source": [
    "# Calculando médias - 2007\n",
    "\n",
    "media_idd_2007 = cpc_2007[\"Nota IDD\"].mean()\n",
    "media_enade_2007 = cpc_2007[\"Nota Enade\"].mean()\n",
    "media_cpc_2007 = cpc_2007[\"CPC Contínuo\"].mean()\n",
    "\n",
    "# Calculando média geral\n",
    "\n",
    "media_geral_2007 = (media_cpc_2007 + media_enade_2007 + media_idd_2007)/3\n",
    "\n",
    "# Imprimindo médias\n",
    "\n",
    "print(f\"Média IDD 2007: {media_idd_2007:.2f}\")\n",
    "print(f\"Média CPC 2007: {media_cpc_2007:.2f}\")\n",
    "print(f\"Média enade 2007: {media_enade_2007:.2f}\")\n",
    "print(\"=\"*25)\n",
    "print(f\"Média geral de 2007: {media_geral_2007:.2f}\")"
   ]
  },
  {
   "cell_type": "code",
   "execution_count": 28,
   "id": "57069ddc",
   "metadata": {},
   "outputs": [
    {
     "name": "stdout",
     "output_type": "stream",
     "text": [
      "Média do governo Bolsonaro: 2.57\n",
      "Média do governo Temer: 2.55\n",
      "Média do governo Dilma: 2.61\n",
      "Média do governo Lula: 2.48\n"
     ]
    }
   ],
   "source": [
    "# Calculando média geral dos governos\n",
    "\n",
    "# Bolsonaro: 2019\n",
    "# Temer: 2018, 2017\n",
    "# Dilma: 2011 - 2012 - 2013 - 2014 - 2015 - 2016\n",
    "# Lula: 2007 - 2008 - 2009 - 2010\n",
    "\n",
    "media_bolsonaro = media_geral_2019\n",
    "media_temer = (media_geral_2018 + media_geral_2017)/2\n",
    "media_dilma = (media_geral_2011 + media_geral_2012 + media_geral_2013 + media_geral_2014 + media_geral_2015 + media_geral_2016)/6\n",
    "media_lula = (media_geral_2007 + media_geral_2008 + media_geral_2009 + media_geral_2012)/4\n",
    "\n",
    "print(f\"Média do governo Bolsonaro: {media_bolsonaro:.2f}\")\n",
    "print(f\"Média do governo Temer: {media_temer:.2f}\")\n",
    "print(f\"Média do governo Dilma: {media_dilma:.2f}\")\n",
    "print(f\"Média do governo Lula: {media_lula:.2f}\")"
   ]
  },
  {
   "cell_type": "code",
   "execution_count": 29,
   "id": "f89dabd5",
   "metadata": {
    "scrolled": true
   },
   "outputs": [
    {
     "name": "stderr",
     "output_type": "stream",
     "text": [
      " * Running on http://127.0.0.1:8050/ (Press CTRL+C to quit)\n",
      "127.0.0.1 - - [24/Aug/2022 16:38:49] \"GET /_alive_ebd51009-ac5e-4ab3-8a33-d61abfb8f12a HTTP/1.1\" 200 -\n"
     ]
    },
    {
     "name": "stdout",
     "output_type": "stream",
     "text": [
      "Dash app running on http://127.0.0.1:8050/\n"
     ]
    },
    {
     "name": "stderr",
     "output_type": "stream",
     "text": [
      "127.0.0.1 - - [24/Aug/2022 16:39:39] \"GET / HTTP/1.1\" 200 -\n",
      "127.0.0.1 - - [24/Aug/2022 16:39:41] \"GET /_dash-layout HTTP/1.1\" 200 -\n",
      "127.0.0.1 - - [24/Aug/2022 16:39:41] \"GET /_dash-dependencies HTTP/1.1\" 200 -\n",
      "127.0.0.1 - - [24/Aug/2022 16:39:41] \"GET /_dash-component-suites/dash/dcc/async-dropdown.js HTTP/1.1\" 304 -\n",
      "127.0.0.1 - - [24/Aug/2022 16:39:42] \"GET /_dash-component-suites/dash/dcc/async-graph.js HTTP/1.1\" 304 -\n",
      "127.0.0.1 - - [24/Aug/2022 16:39:42] \"GET /_dash-component-suites/dash/dcc/async-plotlyjs.js HTTP/1.1\" 304 -\n",
      "127.0.0.1 - - [24/Aug/2022 16:39:42] \"POST /_dash-update-component HTTP/1.1\" 200 -\n",
      "127.0.0.1 - - [24/Aug/2022 16:40:16] \"POST /_dash-update-component HTTP/1.1\" 200 -\n",
      "127.0.0.1 - - [24/Aug/2022 16:40:33] \"POST /_dash-update-component HTTP/1.1\" 200 -\n",
      "127.0.0.1 - - [24/Aug/2022 16:40:40] \"POST /_dash-update-component HTTP/1.1\" 200 -\n",
      "127.0.0.1 - - [24/Aug/2022 16:40:46] \"POST /_dash-update-component HTTP/1.1\" 200 -\n",
      "127.0.0.1 - - [24/Aug/2022 16:41:03] \"POST /_dash-update-component HTTP/1.1\" 200 -\n",
      "127.0.0.1 - - [24/Aug/2022 16:41:05] \"POST /_dash-update-component HTTP/1.1\" 200 -\n",
      "127.0.0.1 - - [24/Aug/2022 16:41:36] \"POST /_dash-update-component HTTP/1.1\" 200 -\n",
      "127.0.0.1 - - [24/Aug/2022 16:41:38] \"POST /_dash-update-component HTTP/1.1\" 200 -\n"
     ]
    }
   ],
   "source": [
    "app = JupyterDash(__name__)\n",
    "\n",
    "# assume you have a \"long-form\" data frame\n",
    "# see https://plotly.com/python/px-arguments/ for more options\n",
    "df = pd.DataFrame({\n",
    "    \"presidente\": [\"Lula\", \"Dilma\", \"Temer\", \"Bolsonaro\"],\n",
    "    \"medias\": [media_lula, media_dilma, media_temer, media_bolsonaro]\n",
    "})\n",
    "\n",
    "bolsonaro = pd.DataFrame({\n",
    "    \"ano(s)\": [\"2019\"],\n",
    "    \"medias\": [media_geral_2019]\n",
    "})\n",
    "\n",
    "temer = pd.DataFrame({\n",
    "    \"ano(s)\": [\"2017\", \"2018\"],\n",
    "    \"medias\": [media_geral_2017, media_geral_2018]\n",
    "})\n",
    "\n",
    "dilma = pd.DataFrame({\n",
    "    \"ano(s)\": [\"2011\", \"2012\", \"2013\", \"2014\", \"2015\", \"2016\"],\n",
    "    \"medias\": [media_geral_2011, media_geral_2012, media_geral_2013, media_geral_2014, media_geral_2015, media_geral_2016]\n",
    "})\n",
    "\n",
    "lula = pd.DataFrame({\n",
    "    \"ano(s)\": [\"2007\", \"2008\", \"2009\", \"2010\"],\n",
    "    \"medias\": [media_geral_2007, media_geral_2008, media_geral_2009, media_geral_2010]\n",
    "})\n",
    "\n",
    "\n",
    "\n",
    "fig = px.bar(df, x=\"presidente\", y=\"medias\", color=\"presidente\")\n",
    "\n",
    "app.layout = html.Div(children=[\n",
    "    html.H1(children='Qualidade da educação superior'),\n",
    "    html.H2(children='Gráfico da qualidade geral da educação superior separados por governo'),\n",
    "\n",
    "    html.Div(children='''\n",
    "        Esse gráfico mostra a qualidade geral da educação superior, que foi feita realizando a média dos principais\n",
    "        índices de qualidade.\n",
    "    '''),\n",
    "    \n",
    "    dcc.Dropdown(['Todos os governos', 'Lula', 'Dilma', 'Temer', 'Bolsonaro'], value='Todos os governos', id='lista_governos'),\n",
    "\n",
    "    dcc.Graph(\n",
    "        id='grafico_qualidade_educacao_governos',\n",
    "        figure=fig\n",
    "    )\n",
    "])\n",
    "\n",
    "@app.callback(\n",
    "    Output('grafico_qualidade_educacao_governos', 'figure'),\n",
    "    Input('lista_governos', 'value')\n",
    ")\n",
    "def update_output(value):\n",
    "    if value == 'Todos os governos':\n",
    "        fig = px.bar(df, x=\"presidente\", y=\"medias\", color=\"presidente\")\n",
    "    elif value == 'Lula':\n",
    "        fig = px.bar(lula, x=\"ano(s)\", y=\"medias\")\n",
    "    elif value == 'Bolsonaro':\n",
    "        fig = px.bar(bolsonaro, x=\"ano(s)\", y=\"medias\")\n",
    "    elif value == 'Temer':\n",
    "        fig = px.bar(temer, x=\"ano(s)\", y=\"medias\")\n",
    "    elif value == 'Dilma':\n",
    "        fig = px.bar(dilma, x=\"ano(s)\", y=\"medias\")\n",
    "    return fig\n",
    "\n",
    "if __name__ == '__main__':\n",
    "    app.run_server(debug=False)"
   ]
  },
  {
   "cell_type": "code",
   "execution_count": null,
   "id": "36b864b7",
   "metadata": {},
   "outputs": [],
   "source": []
  },
  {
   "cell_type": "code",
   "execution_count": null,
   "id": "facc0eff",
   "metadata": {},
   "outputs": [],
   "source": []
  }
 ],
 "metadata": {
  "kernelspec": {
   "display_name": "Python 3 (ipykernel)",
   "language": "python",
   "name": "python3"
  },
  "language_info": {
   "codemirror_mode": {
    "name": "ipython",
    "version": 3
   },
   "file_extension": ".py",
   "mimetype": "text/x-python",
   "name": "python",
   "nbconvert_exporter": "python",
   "pygments_lexer": "ipython3",
   "version": "3.9.7"
  }
 },
 "nbformat": 4,
 "nbformat_minor": 5
}
